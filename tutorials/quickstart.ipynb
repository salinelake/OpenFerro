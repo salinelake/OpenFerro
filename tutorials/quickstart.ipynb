{
 "cells": [
  {
   "cell_type": "code",
   "execution_count": 1,
   "id": "85f98c1c-140a-41be-bc39-46a12daf6d8d",
   "metadata": {},
   "outputs": [],
   "source": [
    "import jax.numpy as jnp\n",
    "import openferro as of\n",
    "from openferro.units import Constants"
   ]
  },
  {
   "cell_type": "markdown",
   "id": "63cac941-ac91-4df7-b622-b2b231e6223d",
   "metadata": {},
   "source": [
    "We have imported openferro and jax.numpy. The latter works very similar to numpy. \n",
    "\n",
    "We also imported `Constants` from `openferro.units`. It contains some useful constants, e.g. the atomic mass unit in gram/mol, which can be got by `Constants.amu`.\n"
   ]
  },
  {
   "cell_type": "markdown",
   "id": "b2151f7e-252f-40d2-97c5-2bfbc86603f2",
   "metadata": {},
   "source": [
    "# Initialization\n",
    "\n",
    "We will define an on-lattice physical system in OpenFerro. \n",
    "\n",
    "A `of.system` object contains three pieces of information that specify a physical system.\n",
    "\n",
    "- Lattice. \n",
    "- Local order parameters (we will use 'field' interchangeably to save ink) and global variables. \n",
    "- Hamiltonian. A Hamiltonian contains many interaction terms. We will add interaction terms to the physical system one by one.\n",
    "\n",
    "These informations all have their own classes and a `of.system` object only store pointers to them. \n",
    "\n",
    "In the following, we will construct a simple cubic lattice, link a physical system to the lattice. Then we will define fields, global strain, and the Hamiltonian within the physical system. "
   ]
  },
  {
   "cell_type": "markdown",
   "id": "5593ea29-6a99-4022-8c74-54c1c19487c0",
   "metadata": {},
   "source": [
    "### Define lattice"
   ]
  },
  {
   "cell_type": "code",
   "execution_count": 2,
   "id": "2927ec0d-50a9-42f7-8548-c6fcdf099f21",
   "metadata": {},
   "outputs": [],
   "source": [
    "## size of the lattice\n",
    "L = 10\n",
    "## Here we will just let the primitive vector be (4,0,0), (0,4,0) and (0,0,4)\n",
    "latt_vecs = [jnp.array([4.0, 0.0, 0.0]), jnp.array([0.0, 4.0, 0.0]), jnp.array([0.0, 0.0, 4.0])]\n",
    "## We define a 10X10X10 simple cubic lattice with given primitive vectors.\n",
    "latt = of.SimpleCubic3D(L, L, L, latt_vecs[0], latt_vecs[1], latt_vecs[2])"
   ]
  },
  {
   "cell_type": "markdown",
   "id": "fe8efeb2-acbd-4cd9-9859-5506d0bc8ba1",
   "metadata": {},
   "source": [
    "We just defined a simple cubic lattice as a `SimpleCubic3D`(subclass of `BravaisLattice3D`).   \n",
    "OpenFerro also supports other types of Bravais lattice. \n",
    "\n",
    "A few other options are \n",
    "\n",
    "- Body-centered cubic lattice (`of.BodyCenteredCubic3D`)\n",
    "\n",
    "- Face-centered cubic lattice (`of.FaceCenteredCubic3D`)\n",
    "\n",
    "- Hexagonal lattice (`of.Hexagonal3D`)"
   ]
  },
  {
   "cell_type": "markdown",
   "id": "d7170b92-a83a-4fa9-acdf-d428ff22905b",
   "metadata": {},
   "source": [
    "Then we link a `system` object to the lattice we just defined. At this point, the `system` object only contains the lattice information. It has an empty dictionary of fields, global variables, and interactions terms in the Hamiltonian. We need to add them one by one."
   ]
  },
  {
   "cell_type": "code",
   "execution_count": 3,
   "id": "d0bdbb1e-42af-4e47-a880-75e83f164082",
   "metadata": {},
   "outputs": [],
   "source": [
    "toy_system = of.System(latt)"
   ]
  },
  {
   "cell_type": "markdown",
   "id": "edd9f9f5-6262-40c4-bb88-d26c194893d2",
   "metadata": {},
   "source": [
    "### Define the fields and global variables\n",
    "\n",
    "Each field linked to the system is an instance of `Field` class. They can be created by calling `add_field` method of the `system` object. \n",
    "\n",
    "The `add_field` method has the following arguments:\n",
    "\n",
    "- ID: the name of the field. ID is unique so a system can not have two fields with the same ID. \n",
    "- ftype: the type of the field. Can be 'Rn' (general real-valued field with dimension n, e.g. local dipole moment), 'SO3' (orientation field, e.g. classical rigid spin), 'LocalStrain3D' (3D local strain field).\n",
    "- dim: the dimension of the field, only used for 'Rn' field. \n",
    "- value: the initial value of the field. If left as None, the field will be initialized as default values. \n",
    "- mass: the mass of the field. Float scalar or array with same size as the lattice. For the latter, each site has a different mass for the field. \n"
   ]
  },
  {
   "cell_type": "code",
   "execution_count": 4,
   "id": "fb252cf8-3839-4594-af59-057ba7247c12",
   "metadata": {},
   "outputs": [],
   "source": [
    "## Add a dipole field  to the system. Each local dipole (u_i, i is site index) is a 3D vector with a mass of 100 amu. We set the initial value of all dipoles to be 0.\n",
    "mass_of_dipole = 100 * Constants.amu\n",
    "dipole_field = toy_system.add_field(ID=\"dipole\", ftype=\"Rn\", dim=3, value=0.0, mass = mass_of_dipole)\n",
    "# ## Define the global strain\n",
    "# mass_of_strain = Constants.amu * L**3  ## we make the mass of the global strain field scaling with the volume of the system. The prefactor is flexible. Here we simply set it to be atomic mass unit.\n",
    "# ## The initial value of the global strain field is set to be [0.01, 0.01, 0.01, 0, 0, 0], correspond to a uniform strain of 1% in all three directions.\n",
    "# gstrain  = toy_system.add_global_strain(value=jnp.array([0.01,0.01,0.01,0,0,0]), mass = mass_of_strain)"
   ]
  },
  {
   "cell_type": "markdown",
   "id": "5c304959",
   "metadata": {},
   "source": [
    "### Define the Hamiltonian\n",
    "\n",
    "The Hamiltonian is defined by adding interaction terms to the system. \n",
    "\n",
    "There are two ways to add interaction terms to the system. \n",
    "- Add build-in interaction terms to the system. \n",
    "- Add custom interaction terms to the system. \n",
    "\n",
    "In this tutorial, we will first show how to add build-in interaction terms to the system. This can be easily done by calling methods of the `system` object. Then we will provide a minimal example of how to add custom interaction terms to the system, which is also easy if you are familiar with basic numpy operations.\n"
   ]
  },
  {
   "cell_type": "markdown",
   "id": "b888b4cb",
   "metadata": {},
   "source": [
    "#### Add build-in interaction terms to the system. "
   ]
  },
  {
   "cell_type": "markdown",
   "id": "b984311f",
   "metadata": {},
   "source": [
    "**Onsite energy**\n",
    "\n",
    "We first add the onsite self-interaction term to the system. \n",
    "The built-in onsite-interaction is $E=\\sum_i K_2|u_i|^2+\\alpha|u_i|^4+\\gamma(u_{ix}^2u_{iy}^2 + u_{iy}^2u_{iz}^2 + u_{iz}^2u_{ix}^2)$. "
   ]
  },
  {
   "cell_type": "code",
   "execution_count": 5,
   "id": "73888b79-71ee-47c1-b5f1-abdfb8f6ab41",
   "metadata": {},
   "outputs": [
    {
     "data": {
      "text/plain": [
       "<openferro.interaction.self_interaction at 0x7f28480b5250>"
      ]
     },
     "execution_count": 5,
     "metadata": {},
     "output_type": "execute_result"
    }
   ],
   "source": [
    "toy_system.add_dipole_onsite_interaction('self_onsite', field_ID=\"dipole\", K2=-10.0, alpha=5.0, gamma=2)"
   ]
  },
  {
   "cell_type": "markdown",
   "id": "0dadacc8",
   "metadata": {},
   "source": [
    "**Dipole-Dipole interaction**\n",
    "\n",
    "Dipole-dipole interaction is a long-range interaction.\n",
    "With periodic boundary condition, the dipole-dipole interaction is given as \n",
    "$E_{dd} =\\frac{1}{2} \\frac{1}{4\\pi\\epsilon_0} \\sum_{\\textbf{n}} \\sum_{i,j} \\frac{u_i\\cdot u_j }{|r_{ij}-a_n|^3} - \\frac{3(u_i\\cdot  (r_{ij}-a_n))(u_j\\cdot (r_{ij}-a_n))}{|r_{ij}-a_n|^5}$. \n",
    "$n$ is the index of the periodic image. So $a_n$ is taken over all (infinitely many) the lattice vectors. \n",
    "$E_{dd}$ can be approximated by [Ewald summation](https://arxiv.org/abs/1811.09819). \n",
    "\n",
    "The dipole-dipole interaction can be added to the system by calling `add_dipole_dipole_interaction` method of the `system` object. \n",
    "\n",
    "The method has the following arguments:\n",
    "\n",
    "- ID: the name of the interaction term. \n",
    "- field_ID: the ID of the field to which the interaction term is associated to. \n",
    "- prefactor: a scalar prefactor of the interaction term. So the interaction term added to the Hamiltonian is actually $\\text{prefactor} \\times E_{dd}$. The prefactor can be $1/\\epsilon_r$ to deal with the dielectric constant. \n"
   ]
  },
  {
   "cell_type": "code",
   "execution_count": 6,
   "id": "37832fb5",
   "metadata": {},
   "outputs": [
    {
     "data": {
      "text/plain": [
       "<openferro.interaction.self_interaction at 0x7f29302624c0>"
      ]
     },
     "execution_count": 6,
     "metadata": {},
     "output_type": "execute_result"
    }
   ],
   "source": [
    "relative_dielectric_constant = 10.0\n",
    "toy_system.add_dipole_dipole_interaction('dipole_ewald', field_ID=\"dipole\", prefactor = 1 / relative_dielectric_constant )"
   ]
  },
  {
   "cell_type": "markdown",
   "id": "ba1968d4",
   "metadata": {},
   "source": [
    "#### Add Custom interaction terms to the system. \n",
    "\n",
    "A `system` object has three methods to add custum interaction terms to the Hamiltonian:\n",
    "\n",
    "- `add_self_interaction`: add a custum interaction that only involves one field. This method requires the following arguments:\n",
    "    - ID, field_ID, energy_engine, parameters\n",
    "- `add_mutual_interaction`: add a custum interaction that involves two fields. This method requires the following arguments:\n",
    "    - ID, field_1_ID, field_2_ID, energy_engine, parameters\n",
    "- `add_triple_interaction`: add a custum interaction that involves three fields.\n",
    "    - ID, field_1_ID, field_2_ID, field_3_ID, energy_engine, parameters\n",
    "\n",
    "energy_engine is a plain Python function that takes the field values as arguments and returns the scalar energy of this interaction. parameters is a 1D array of parameters of the interaction. \n",
    "\n",
    "For example, `add_self_interaction` requires a energy_engine like\n",
    "```python\n",
    "def energy_engine(field_values: jnp.ndarray, parameters: jnp.ndarray):\n",
    "    '''\n",
    "    For example, for a R^d field defined on a 3D lattice, field_values is a 4D array with shape (L1, L2, L3, d). parameters is a 1D array.\n",
    "    '''\n",
    "    energy = some_scalar_function(field_values, parameters)\n",
    "    return energy\n",
    "```\n",
    "\n",
    "`add_mutual_interaction` requires a energy_engine like\n",
    "```python\n",
    "def energy_engine(field_values_1: jnp.ndarray, field_values_2: jnp.ndarray, parameters: jnp.ndarray):\n",
    "    energy = some_scalar_function(field_values_1, field_values_2, parameters)\n",
    "    return energy\n",
    "```\n",
    "\n",
    "In the following, we add a custum nearest-neighbor interaction to the system, given as $E= \\frac{J}{2} \\sum_{i\\sim j}  u_i \\cdot u_j$. "
   ]
  },
  {
   "cell_type": "code",
   "execution_count": 7,
   "id": "1573fb97",
   "metadata": {},
   "outputs": [
    {
     "data": {
      "text/plain": [
       "<openferro.interaction.self_interaction at 0x7f28402517f0>"
      ]
     },
     "execution_count": 7,
     "metadata": {},
     "output_type": "execute_result"
    }
   ],
   "source": [
    "## First we define the energy engine.\n",
    "def nn_interaction(field_values: jnp.ndarray, parameters):\n",
    "    J = parameters[0]\n",
    "    f = field_values\n",
    "    energy = J * jnp.sum(f * jnp.roll(f, 1, axis=0))\n",
    "    energy += J * jnp.sum(f * jnp.roll(f, 1, axis=1))\n",
    "    energy += J * jnp.sum(f * jnp.roll(f, 1, axis=2))\n",
    "    return energy\n",
    "## Then we add the interaction to the system.\n",
    "toy_system.add_self_interaction('nn_coupling', field_ID=\"dipole\", energy_engine=nn_interaction, parameters=jnp.array([-1.0]))"
   ]
  },
  {
   "cell_type": "markdown",
   "id": "e0069847",
   "metadata": {},
   "source": [
    "And.. We are done! Isn't it easy? OpenFerro will handle all the others ( including GPU acceleration of evaluting custom interaction) for you. "
   ]
  },
  {
   "cell_type": "markdown",
   "id": "f4a252e7",
   "metadata": {},
   "source": [
    "# Simulation"
   ]
  },
  {
   "cell_type": "markdown",
   "id": "a68da03b",
   "metadata": {},
   "source": [
    "### Initialize the simulation\n",
    "\n",
    "A `Simulation` object controls the work flow of the simulation. There are currently four types of subclasses of `Simulation` in OpenFerro (see [documentation](https://openferro.readthedocs.io/en/latest/theory-dynamics.html) for explaination):\n",
    "\n",
    "- `MDMinimize`: Structural optimization.\n",
    "- `SimulationNVE`: NVE dynamics.\n",
    "- `SimulationNVTLangevin`: NVT dynamics with Langevin thermostat.\n",
    "- `SimulationNPTLangevin`: NPT dynamics with Langevin thermostat.\n",
    "\n",
    "We will use `SimulationNVTLangevin` in this tutorial. \n"
   ]
  },
  {
   "cell_type": "code",
   "execution_count": 8,
   "id": "cc1481b7",
   "metadata": {},
   "outputs": [],
   "source": [
    "dt = 0.002 ## time step of the simulation is 0.002ps=2fs\n",
    "temp = 300 ## temperature of the simulation is 300K\n",
    "## Initialization of the simulation requires the system we just defined.\n",
    "simulation = of.SimulationNVTLangevin(toy_system )\n",
    "## Initialize the velocity of the local order parameters with a Gaussian distribution\n",
    "simulation.init_velocity(mode='gaussian', temp=temp)\n",
    "## Set the integrator of the field to be isothermal integrator, since we are doing NVT dynamics.\n",
    "dipole_field.set_integrator('isothermal', dt=dt, temp=temp, tau=0.1)\n",
    "## Add reporters to the simulation. The reporters will record the simulation data to files.\n",
    "simulation.add_thermo_reporter(file='thermo.log', log_interval=100, potential_energy=True, kinetic_energy=True, temperature=True)  ## record the potential energy, kinetic energy, and temperature every 100 steps.\n",
    "simulation.add_field_reporter(file_prefix='field', field_ID=\"dipole\", log_interval=100,  field_average=True, dump_field=False) ## record the average value of the dipole field every 100 steps."
   ]
  },
  {
   "cell_type": "markdown",
   "id": "9d815374",
   "metadata": {},
   "source": [
    "### Run the simulation for 5000 steps, amounting to 10ps. "
   ]
  },
  {
   "cell_type": "code",
   "execution_count": 9,
   "id": "d2d15dd0",
   "metadata": {},
   "outputs": [],
   "source": [
    "simulation.run(5000)"
   ]
  },
  {
   "cell_type": "markdown",
   "id": "168591c1",
   "metadata": {},
   "source": [
    "### Check the log files. Do you see the symmetry breaking? "
   ]
  }
 ],
 "metadata": {
  "kernelspec": {
   "display_name": "Python 3 (ipykernel)",
   "language": "python",
   "name": "python3"
  },
  "language_info": {
   "codemirror_mode": {
    "name": "ipython",
    "version": 3
   },
   "file_extension": ".py",
   "mimetype": "text/x-python",
   "name": "python",
   "nbconvert_exporter": "python",
   "pygments_lexer": "ipython3",
   "version": "3.9.19"
  }
 },
 "nbformat": 4,
 "nbformat_minor": 5
}
