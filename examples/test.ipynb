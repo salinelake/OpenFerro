{
 "cells": [
  {
   "cell_type": "code",
   "execution_count": 1,
   "id": "c8dea6a1-27a8-42e1-9416-04235d759685",
   "metadata": {},
   "outputs": [],
   "source": [
    "import openferro as of\n",
    "from openferro.interaction import *\n"
   ]
  },
  {
   "cell_type": "code",
   "execution_count": 2,
   "id": "14acc9aa",
   "metadata": {},
   "outputs": [
    {
     "data": {
      "text/plain": [
       "Array([[[1., 1., 1.],\n",
       "        [1., 1., 1.],\n",
       "        [1., 1., 1.]],\n",
       "\n",
       "       [[1., 1., 1.],\n",
       "        [1., 1., 1.],\n",
       "        [1., 1., 1.]],\n",
       "\n",
       "       [[1., 1., 1.],\n",
       "        [1., 1., 1.],\n",
       "        [1., 1., 1.]]], dtype=float32)"
      ]
     },
     "execution_count": 2,
     "metadata": {},
     "output_type": "execute_result"
    }
   ],
   "source": [
    "latt = of.BravaisLattice3D(3, 3, 3)\n",
    "pto = of.System(latt, pbc=True)\n",
    "dipole_field = pto.add_field(name=\"dipole\", ftype=\"scalar\", value=1)\n",
    "dipole_field.get_field()"
   ]
  },
  {
   "cell_type": "code",
   "execution_count": 3,
   "id": "e60b565d",
   "metadata": {},
   "outputs": [
    {
     "data": {
      "text/plain": [
       "<openferro.interaction.self_interaction at 0x1f8bc81aae0>"
      ]
     },
     "execution_count": 3,
     "metadata": {},
     "output_type": "execute_result"
    }
   ],
   "source": [
    "pto.get_field_by_name('dipole')\n",
    "\n",
    "double_well = self_energy_R1_onsite\n",
    "pto.add_self_interaction('double_well', field_name=\"dipole\", energy_engine=double_well, parameters={'k2': 1, 'alpha': 1, 'offset': 0})\n",
    "\n",
    "ising_couple = self_energy_R1_neighbor_pbc\n",
    "pto.add_self_interaction('ising_couple', field_name=\"dipole\", energy_engine=ising_couple, parameters={'J1': 1, 'J2': 1, 'J3': 1, 'offset': 0})\n"
   ]
  },
  {
   "cell_type": "code",
   "execution_count": 6,
   "id": "75f5c9e5",
   "metadata": {},
   "outputs": [
    {
     "data": {
      "text/plain": [
       "Array(54., dtype=float32)"
      ]
     },
     "execution_count": 6,
     "metadata": {},
     "output_type": "execute_result"
    }
   ],
   "source": [
    "pto.calculate_energy_by_name('double_well')\n",
    "# pto.calculate_energy_by_name('ising_couple')"
   ]
  },
  {
   "cell_type": "code",
   "execution_count": null,
   "id": "1e35b711",
   "metadata": {},
   "outputs": [],
   "source": []
  }
 ],
 "metadata": {
  "kernelspec": {
   "display_name": "Python 3 (ipykernel)",
   "language": "python",
   "name": "python3"
  },
  "language_info": {
   "codemirror_mode": {
    "name": "ipython",
    "version": 3
   },
   "file_extension": ".py",
   "mimetype": "text/x-python",
   "name": "python",
   "nbconvert_exporter": "python",
   "pygments_lexer": "ipython3",
   "version": "3.12.2"
  }
 },
 "nbformat": 4,
 "nbformat_minor": 5
}
