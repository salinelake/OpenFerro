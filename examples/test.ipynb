{
 "cells": [
  {
   "cell_type": "code",
   "execution_count": 1,
   "id": "c8dea6a1-27a8-42e1-9416-04235d759685",
   "metadata": {},
   "outputs": [],
   "source": [
    "import openferro as of\n",
    "from openferro.interaction import *\n",
    "from openferro.simulation import *"
   ]
  },
  {
   "cell_type": "code",
   "execution_count": 2,
   "id": "14acc9aa",
   "metadata": {},
   "outputs": [
    {
     "name": "stdout",
     "output_type": "stream",
     "text": [
      "mass: [1. 1. 1. 1. 1. 1. 1. 1. 1. 1. 1. 1. 1. 1. 1. 1. 1. 1. 1. 1. 1. 1. 1. 1.\n",
      " 1. 1. 1.]\n",
      "max force before optimization 0.26250002\n",
      "config before optimization [0.75 0.75 0.75 0.75 0.75 0.75 0.75 0.75 0.75 0.75 0.75 0.75 0.75 0.75\n",
      " 0.75 0.75 0.75 0.75 0.75 0.75 0.75 0.75 0.75 0.75 0.75 0.75 0.75]\n",
      "max force after optimization 5.7816505e-06\n",
      "config after optimization [0.80622524 0.80622524 0.80622524 0.80622524 0.80622524 0.80622524\n",
      " 0.80622524 0.80622524 0.80622524 0.80622524 0.80622524 0.80622524\n",
      " 0.80622524 0.80622524 0.80622524 0.80622524 0.80622524 0.80622524\n",
      " 0.80622524 0.80622524 0.80622524 0.80622524 0.80622524 0.80622524\n",
      " 0.80622524 0.80622524 0.80622524 0.80622524 0.80622524 0.80622524\n",
      " 0.80622524 0.80622524 0.80622524 0.80622524 0.80622524 0.80622524\n",
      " 0.80622524 0.80622524 0.80622524 0.80622524 0.80622524 0.80622524\n",
      " 0.80622524 0.80622524 0.80622524 0.80622524 0.80622524 0.80622524\n",
      " 0.80622524 0.80622524 0.80622524 0.80622524 0.80622524 0.80622524\n",
      " 0.80622524 0.80622524 0.80622524 0.80622524 0.80622524 0.80622524\n",
      " 0.80622524 0.80622524 0.80622524 0.80622524 0.80622524 0.80622524\n",
      " 0.80622524 0.80622524 0.80622524 0.80622524 0.80622524 0.80622524\n",
      " 0.80622524 0.80622524 0.80622524 0.80622524 0.80622524 0.80622524\n",
      " 0.80622524 0.80622524 0.80622524]\n"
     ]
    }
   ],
   "source": [
    "latt = of.BravaisLattice3D(3, 3, 3)\n",
    "pto = of.System(latt, pbc=True)\n",
    "dipole_field = pto.add_field(name=\"dipole\", ftype=\"scalar\", value=0.75)\n",
    "\n",
    "double_well = self_energy_R1_onsite\n",
    "pto.add_self_interaction('double_well', field_name=\"dipole\", energy_engine=double_well, parameters={'k2': -1, 'alpha': 1, 'offset': 0}, enable_jit=True)\n",
    "\n",
    "ising_couple = self_energy_R1_neighbor_pbc\n",
    "pto.add_self_interaction('ising_couple', field_name=\"dipole\", energy_engine=ising_couple, parameters={'J1': -0.1, 'J2': -0.1, 'J3': -0.1, 'offset': 0}, enable_jit=True)\n",
    "\n",
    "print('mass:', pto.get_field_by_name('dipole').get_mass().flatten())\n",
    "pto.update_force()\n",
    "print('max force before optimization',pto.get_field_by_name(\"dipole\").get_force().max())\n",
    "print('config before optimization',pto.get_field_by_name(\"dipole\").get_values().flatten())\n",
    "minimizer = MDMinimize(pto, max_iter=100, tol=1e-5, dt=0.1)\n",
    "minimizer.minimize()\n",
    "print('max force after optimization',pto.get_field_by_name(\"dipole\").get_force().max())\n",
    "print('config after optimization',pto.get_field_by_name(\"dipole\").get_values().flatten())"
   ]
  },
  {
   "cell_type": "code",
   "execution_count": 13,
   "id": "75f5c9e5",
   "metadata": {},
   "outputs": [],
   "source": [
    "\n",
    "# simulation = SimulationNVE(pto, dt=0.01, temperature=1)\n",
    "simulation = SimulationNVTLangevin(pto, dt=0.001, temperature=100, gamma=0.1)\n",
    "simulation.init_velocity(mode='gaussian')\n",
    "# print('init position:', pto.get_field_by_name('dipole').get_values().flatten())\n",
    "# print('init velocity:', pto.get_field_by_name('dipole').get_velocity().flatten())\n"
   ]
  },
  {
   "cell_type": "code",
   "execution_count": 14,
   "id": "1e35b711",
   "metadata": {},
   "outputs": [
    {
     "name": "stdout",
     "output_type": "stream",
     "text": [
      "258 ms ± 6.66 ms per loop (mean ± std. dev. of 7 runs, 1 loop each)\n",
      "=============================================\n",
      "pot energy: -33.76358\n",
      "kine energy: 0.36095086\n",
      "total energy: -33.40263\n",
      "temperature: 103.42375\n",
      "average field: 0.8118404\n",
      "258 ms ± 2.45 ms per loop (mean ± std. dev. of 7 runs, 1 loop each)\n",
      "=============================================\n",
      "pot energy: -33.784454\n",
      "kine energy: 0.37682423\n",
      "total energy: -33.40763\n",
      "temperature: 107.97197\n",
      "average field: 0.81058174\n",
      "256 ms ± 1.95 ms per loop (mean ± std. dev. of 7 runs, 1 loop each)\n",
      "=============================================\n",
      "pot energy: -33.81161\n",
      "kine energy: 0.4050375\n",
      "total energy: -33.406574\n",
      "temperature: 116.055954\n",
      "average field: 0.8091864\n",
      "257 ms ± 2.83 ms per loop (mean ± std. dev. of 7 runs, 1 loop each)\n",
      "=============================================\n",
      "pot energy: -33.841824\n",
      "kine energy: 0.43941316\n",
      "total energy: -33.40241\n",
      "temperature: 125.90567\n",
      "average field: 0.8077596\n",
      "258 ms ± 3.3 ms per loop (mean ± std. dev. of 7 runs, 1 loop each)\n",
      "=============================================\n",
      "pot energy: -33.867897\n",
      "kine energy: 0.47626245\n",
      "total energy: -33.391636\n",
      "temperature: 136.46416\n",
      "average field: 0.8062892\n",
      "260 ms ± 12.2 ms per loop (mean ± std. dev. of 7 runs, 1 loop each)\n",
      "=============================================\n",
      "pot energy: -33.88524\n",
      "kine energy: 0.50115407\n",
      "total energy: -33.384083\n",
      "temperature: 143.59637\n",
      "average field: 0.8046693\n",
      "256 ms ± 1.67 ms per loop (mean ± std. dev. of 7 runs, 1 loop each)\n",
      "=============================================\n",
      "pot energy: -33.889107\n",
      "kine energy: 0.49771053\n",
      "total energy: -33.391396\n",
      "temperature: 142.6097\n",
      "average field: 0.8027897\n",
      "255 ms ± 2.05 ms per loop (mean ± std. dev. of 7 runs, 1 loop each)\n",
      "=============================================\n",
      "pot energy: -33.878555\n",
      "kine energy: 0.49270323\n",
      "total energy: -33.385853\n",
      "temperature: 141.17494\n",
      "average field: 0.8007723\n",
      "256 ms ± 578 µs per loop (mean ± std. dev. of 7 runs, 1 loop each)\n",
      "=============================================\n",
      "pot energy: -33.855778\n",
      "kine energy: 0.46305382\n",
      "total energy: -33.392723\n",
      "temperature: 132.67946\n",
      "average field: 0.79885006\n",
      "256 ms ± 1.52 ms per loop (mean ± std. dev. of 7 runs, 1 loop each)\n",
      "=============================================\n",
      "pot energy: -33.82775\n",
      "kine energy: 0.44948906\n",
      "total energy: -33.37826\n",
      "temperature: 128.79274\n",
      "average field: 0.7970208\n"
     ]
    }
   ],
   "source": [
    "for idx in range(10):\n",
    "    %timeit simulation.step(10)\n",
    "    # print('velocity:', pto.get_field_by_name('dipole').get_velocity().flatten())\n",
    "    # print('field:', pto.get_field_by_name('dipole').get_values().flatten())\n",
    "    pot_E = pto.calc_potential_energy()\n",
    "    kin_E = pto.calc_kinetic_energy()\n",
    "    total_E = pot_E + kin_E\n",
    "    average_field = pto.get_field_by_name('dipole').get_values().mean()\n",
    "    print('=============================================')\n",
    "    print('pot energy:', pot_E)\n",
    "    print('kine energy:', kin_E)\n",
    "    print('total energy:', total_E)\n",
    "    print('temperature:', pto.calc_temp_by_name('dipole'))\n",
    "    print('average field:', average_field)\n",
    "    # print('field:', pto.get_field_by_name('dipole').get_values().flatten())"
   ]
  },
  {
   "cell_type": "code",
   "execution_count": null,
   "id": "bcbbd4e5",
   "metadata": {},
   "outputs": [],
   "source": []
  }
 ],
 "metadata": {
  "kernelspec": {
   "display_name": "Python 3 (ipykernel)",
   "language": "python",
   "name": "python3"
  },
  "language_info": {
   "codemirror_mode": {
    "name": "ipython",
    "version": 3
   },
   "file_extension": ".py",
   "mimetype": "text/x-python",
   "name": "python",
   "nbconvert_exporter": "python",
   "pygments_lexer": "ipython3",
   "version": "3.12.2"
  }
 },
 "nbformat": 4,
 "nbformat_minor": 5
}
