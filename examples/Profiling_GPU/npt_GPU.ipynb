{
 "cells": [
  {
   "cell_type": "markdown",
   "id": "8dd13e1e-f905-4f9b-ba83-01adc6e9a187",
   "metadata": {
    "editable": true,
    "slideshow": {
     "slide_type": ""
    },
    "tags": []
   },
   "source": [
    "# We will run the same NPT simulation respectively on 1GPU, 2GPU and 4GPU, to compare the performance."
   ]
  },
  {
   "cell_type": "code",
   "execution_count": 1,
   "id": "11d450d0-8161-4875-b58d-2de3dbf0663c",
   "metadata": {},
   "outputs": [],
   "source": [
    "import json\n",
    "from time import time as timer\n",
    "import jax\n",
    "import openferro as of\n",
    "from openferro.engine.elastic import *\n",
    "from openferro.engine.ferroelectric import *\n",
    "from openferro.units import Constants\n",
    "from openferro.parallelism import DeviceMesh\n",
    "from IPython.display import clear_output\n",
    "\n",
    "##########################################################################################\n",
    "## Define the lattice  (256X256X256 Simple Cubic Lattice)\n",
    "##########################################################################################\n",
    "L = 256\n",
    "hydropres =  -4.8e4   ## apply a hydrostatic pressure to correct for error of DFT approximation used to parameterize the lattice model. \n",
    "config = json.load(open('BaTiO3.json'))\n",
    "latt_vecs = jnp.eye(3) * config['lattice']['a1']\n",
    "latt = of.SimpleCubic3D(L, L, L, latt_vecs[0], latt_vecs[1], latt_vecs[2])\n"
   ]
  },
  {
   "cell_type": "markdown",
   "id": "615df02d-6420-4d0c-bbf0-9b6378780edc",
   "metadata": {},
   "source": [
    "## First run the simulation on 1 GPU. "
   ]
  },
  {
   "cell_type": "code",
   "execution_count": 2,
   "id": "b51a0491-1cd0-45fd-9087-2305acd55d51",
   "metadata": {},
   "outputs": [
    {
     "name": "stdout",
     "output_type": "stream",
     "text": [
      "initialization takes: 228.53161883354187 seconds\n",
      "500 steps takes: 51.456912994384766 seconds\n"
     ]
    }
   ],
   "source": [
    "bto = of.System(latt)\n",
    "##########################################################################################\n",
    "## Define the fields\n",
    "##########################################################################################\n",
    "dipole_field = bto.add_field(ID=\"dipole\", ftype=\"Rn\", dim=3, value=0.0, mass = 200 * Constants.amu)\n",
    "lstrain_field = bto.add_field(ID=\"lstrain\", ftype=\"LocalStrain3D\", value=0.0, mass = 200 * Constants.amu)\n",
    "gstrain  = bto.add_global_strain(value=jnp.array([0.01,0.01,0.01,0,0,0]), mass = 200 * Constants.amu * L**3)\n",
    "\n",
    "##########################################################################################\n",
    "## Define the Hamiltonian\n",
    "##########################################################################################\n",
    "bto.add_dipole_onsite_interaction('self_onsite', field_ID=\"dipole\", K2=config[\"onsite\"][\"k2\"], alpha=config[\"onsite\"][\"alpha\"], gamma=config[\"onsite\"][\"gamma\"])\n",
    "bto.add_dipole_interaction_1st_shell('short_range_1', field_ID=\"dipole\", j1=config[\"short_range\"][\"j1\"], j2=config[\"short_range\"][\"j2\"])\n",
    "bto.add_dipole_interaction_2nd_shell('short_range_2', field_ID=\"dipole\", j3=config[\"short_range\"][\"j3\"], j4=config[\"short_range\"][\"j4\"], j5=config[\"short_range\"][\"j5\"])\n",
    "bto.add_dipole_interaction_3rd_shell('short_range_3', field_ID=\"dipole\", j6=config[\"short_range\"][\"j6\"], j7=config[\"short_range\"][\"j7\"])\n",
    "bto.add_dipole_dipole_interaction('dipole_ewald', field_ID=\"dipole\", prefactor = config[\"born\"][\"Z_star\"]**2 / config[\"born\"][\"epsilon_inf\"] )\n",
    "bto.add_homo_elastic_interaction('homo_elastic', field_ID=\"gstrain\", B11=config[\"elastic\"][\"B11\"], B12=config[\"elastic\"][\"B12\"], B44=config[\"elastic\"][\"B44\"])\n",
    "bto.add_homo_strain_dipole_interaction('homo_strain_dipole', field_1_ID=\"gstrain\", field_2_ID=\"dipole\", B1xx=config[\"elastic_dipole\"][\"B1xx\"], B1yy=config[\"elastic_dipole\"][\"B1yy\"], B4yz=config[\"elastic_dipole\"][\"B4yz\"])\n",
    "bto.add_inhomo_elastic_interaction('inhomo_elastic', field_ID=\"lstrain\", B11=config[\"elastic\"][\"B11\"], B12=config[\"elastic\"][\"B12\"], B44=config[\"elastic\"][\"B44\"])\n",
    "bto.add_inhomo_strain_dipole_interaction('inhomo_strain_dipole', field_1_ID=\"lstrain\", field_2_ID=\"dipole\", B1xx=config[\"elastic_dipole\"][\"B1xx\"], B1yy=config[\"elastic_dipole\"][\"B1yy\"], B4yz=config[\"elastic_dipole\"][\"B4yz\"])\n",
    "\n",
    "##########################################################################################\n",
    "## NPT simulation setup\n",
    "##########################################################################################\n",
    "dt = 0.002\n",
    "temperature = 300\n",
    "dipole_field.set_integrator('isothermal', dt=dt, temp=temperature, tau=0.1)\n",
    "lstrain_field.set_integrator('isothermal', dt=dt, temp=temperature, tau=1)\n",
    "gstrain.set_integrator('isothermal', dt=dt, temp=temperature, tau=1)\n",
    "simulation = of.SimulationNPTLangevin(bto, pressure=hydropres)\n",
    "simulation.init_velocity(mode='gaussian', temp=temperature)\n",
    "\n",
    "##########################################################################################\n",
    "## Run\n",
    "##########################################################################################\n",
    "t0_1gpu_init = timer()\n",
    "jax.block_until_ready(simulation.run(1, profile=False))\n",
    "t1_1gpu_init = timer()\n",
    "\n",
    "t0_1gpu_run = timer()\n",
    "jax.block_until_ready(simulation.run(500, profile=False))\n",
    "t1_1gpu_run = timer()\n",
    "\n",
    "##########################################################################################\n",
    "## Report\n",
    "##########################################################################################\n",
    "clear_output()   # Clean the \"constant folding warning\" from JAX. It is expected for large lattices.\n",
    "\n",
    "print(f\"initialization takes: {t1_1gpu_init-t0_1gpu_init} seconds\")\n",
    "print(f\"500 steps takes: {t1_1gpu_run-t0_1gpu_run} seconds\")"
   ]
  },
  {
   "cell_type": "markdown",
   "id": "587a2c94-8bc8-4d1e-8995-8fc1cae80c51",
   "metadata": {},
   "source": [
    "## Run the same simulation on 2 GPUs"
   ]
  },
  {
   "cell_type": "code",
   "execution_count": 3,
   "id": "d7ee25ac-ccd7-4b72-b75b-d4ad415aa4a6",
   "metadata": {},
   "outputs": [
    {
     "name": "stdout",
     "output_type": "stream",
     "text": [
      "initialization takes: 225.68468475341797 seconds\n",
      "500 steps takes: 28.956359148025513 seconds\n"
     ]
    }
   ],
   "source": [
    "bto = of.System(latt)\n",
    "##########################################################################################\n",
    "## Define the fields\n",
    "##########################################################################################\n",
    "dipole_field = bto.add_field(ID=\"dipole\", ftype=\"Rn\", dim=3, value=0.0, mass = 200 * Constants.amu)\n",
    "lstrain_field = bto.add_field(ID=\"lstrain\", ftype=\"LocalStrain3D\", value=0.0, mass = 200 * Constants.amu)\n",
    "gstrain  = bto.add_global_strain(value=jnp.array([0.01,0.01,0.01,0,0,0]), mass = 200 * Constants.amu * L**3)\n",
    "\n",
    "##########################################################################################\n",
    "## move fields to multi-GPUs\n",
    "##########################################################################################\n",
    "gpu_mesh = DeviceMesh(jax.devices()[:2], num_rows=2, num_cols=1)\n",
    "bto.move_fields_to_multi_devs(gpu_mesh)\n",
    "\n",
    "##########################################################################################\n",
    "## Define the Hamiltonian\n",
    "##########################################################################################\n",
    "bto.add_dipole_onsite_interaction('self_onsite', field_ID=\"dipole\", K2=config[\"onsite\"][\"k2\"], alpha=config[\"onsite\"][\"alpha\"], gamma=config[\"onsite\"][\"gamma\"])\n",
    "bto.add_dipole_interaction_1st_shell('short_range_1', field_ID=\"dipole\", j1=config[\"short_range\"][\"j1\"], j2=config[\"short_range\"][\"j2\"])\n",
    "bto.add_dipole_interaction_2nd_shell('short_range_2', field_ID=\"dipole\", j3=config[\"short_range\"][\"j3\"], j4=config[\"short_range\"][\"j4\"], j5=config[\"short_range\"][\"j5\"])\n",
    "bto.add_dipole_interaction_3rd_shell('short_range_3', field_ID=\"dipole\", j6=config[\"short_range\"][\"j6\"], j7=config[\"short_range\"][\"j7\"])\n",
    "bto.add_dipole_dipole_interaction('dipole_ewald', field_ID=\"dipole\", prefactor = config[\"born\"][\"Z_star\"]**2 / config[\"born\"][\"epsilon_inf\"] )\n",
    "bto.add_homo_elastic_interaction('homo_elastic', field_ID=\"gstrain\", B11=config[\"elastic\"][\"B11\"], B12=config[\"elastic\"][\"B12\"], B44=config[\"elastic\"][\"B44\"])\n",
    "bto.add_homo_strain_dipole_interaction('homo_strain_dipole', field_1_ID=\"gstrain\", field_2_ID=\"dipole\", B1xx=config[\"elastic_dipole\"][\"B1xx\"], B1yy=config[\"elastic_dipole\"][\"B1yy\"], B4yz=config[\"elastic_dipole\"][\"B4yz\"])\n",
    "bto.add_inhomo_elastic_interaction('inhomo_elastic', field_ID=\"lstrain\", B11=config[\"elastic\"][\"B11\"], B12=config[\"elastic\"][\"B12\"], B44=config[\"elastic\"][\"B44\"])\n",
    "bto.add_inhomo_strain_dipole_interaction('inhomo_strain_dipole', field_1_ID=\"lstrain\", field_2_ID=\"dipole\", B1xx=config[\"elastic_dipole\"][\"B1xx\"], B1yy=config[\"elastic_dipole\"][\"B1yy\"], B4yz=config[\"elastic_dipole\"][\"B4yz\"])\n",
    "\n",
    "##########################################################################################\n",
    "## NPT simulation setup\n",
    "##########################################################################################\n",
    "dt = 0.002\n",
    "temperature = 300\n",
    "dipole_field.set_integrator('isothermal', dt=dt, temp=temperature, tau=0.1)\n",
    "lstrain_field.set_integrator('isothermal', dt=dt, temp=temperature, tau=1)\n",
    "gstrain.set_integrator('isothermal', dt=dt, temp=temperature, tau=1)\n",
    "simulation = of.SimulationNPTLangevin(bto, pressure=hydropres)\n",
    "simulation.init_velocity(mode='gaussian', temp=temperature)\n",
    "\n",
    "##########################################################################################\n",
    "## Run\n",
    "##########################################################################################\n",
    "t0_2gpu_init = timer()\n",
    "jax.block_until_ready(simulation.run(1, profile=False))\n",
    "t1_2gpu_init = timer()\n",
    "\n",
    "t0_2gpu_run = timer()\n",
    "jax.block_until_ready(simulation.run(500, profile=False))\n",
    "t1_2gpu_run = timer()\n",
    "\n",
    "##########################################################################################\n",
    "## Report\n",
    "##########################################################################################\n",
    "clear_output()   # Clean the \"constant folding warning\" from JAX. It is expected for large lattices.\n",
    "\n",
    "print(f\"initialization takes: {t1_2gpu_init-t0_2gpu_init} seconds\")\n",
    "print(f\"500 steps takes: {t1_2gpu_run-t0_2gpu_run} seconds\")"
   ]
  },
  {
   "cell_type": "markdown",
   "id": "fcddb699-ee79-4103-9556-36167488162a",
   "metadata": {},
   "source": [
    "## Run the same simulation on 4 GPUs"
   ]
  },
  {
   "cell_type": "code",
   "execution_count": 5,
   "id": "ab4af182-7b1a-4679-9211-985abb86f0f0",
   "metadata": {},
   "outputs": [
    {
     "name": "stdout",
     "output_type": "stream",
     "text": [
      "initialization takes: 226.28097200393677 seconds\n",
      "500 steps takes: 20.941428661346436 seconds\n"
     ]
    }
   ],
   "source": [
    "bto = of.System(latt)\n",
    "##########################################################################################\n",
    "## Define the fields\n",
    "##########################################################################################\n",
    "dipole_field = bto.add_field(ID=\"dipole\", ftype=\"Rn\", dim=3, value=0.0, mass = 200 * Constants.amu)\n",
    "lstrain_field = bto.add_field(ID=\"lstrain\", ftype=\"LocalStrain3D\", value=0.0, mass = 200 * Constants.amu)\n",
    "gstrain  = bto.add_global_strain(value=jnp.array([0.01,0.01,0.01,0,0,0]), mass = 200 * Constants.amu * L**3)\n",
    "\n",
    "##########################################################################################\n",
    "## move fields to multi-GPUs\n",
    "##########################################################################################\n",
    "gpu_mesh = DeviceMesh(jax.devices()[:4], num_rows=2, num_cols=2)\n",
    "bto.move_fields_to_multi_devs(gpu_mesh)\n",
    "\n",
    "##########################################################################################\n",
    "## Define the Hamiltonian\n",
    "##########################################################################################\n",
    "bto.add_dipole_onsite_interaction('self_onsite', field_ID=\"dipole\", K2=config[\"onsite\"][\"k2\"], alpha=config[\"onsite\"][\"alpha\"], gamma=config[\"onsite\"][\"gamma\"])\n",
    "bto.add_dipole_interaction_1st_shell('short_range_1', field_ID=\"dipole\", j1=config[\"short_range\"][\"j1\"], j2=config[\"short_range\"][\"j2\"])\n",
    "bto.add_dipole_interaction_2nd_shell('short_range_2', field_ID=\"dipole\", j3=config[\"short_range\"][\"j3\"], j4=config[\"short_range\"][\"j4\"], j5=config[\"short_range\"][\"j5\"])\n",
    "bto.add_dipole_interaction_3rd_shell('short_range_3', field_ID=\"dipole\", j6=config[\"short_range\"][\"j6\"], j7=config[\"short_range\"][\"j7\"])\n",
    "bto.add_dipole_dipole_interaction('dipole_ewald', field_ID=\"dipole\", prefactor = config[\"born\"][\"Z_star\"]**2 / config[\"born\"][\"epsilon_inf\"] )\n",
    "bto.add_homo_elastic_interaction('homo_elastic', field_ID=\"gstrain\", B11=config[\"elastic\"][\"B11\"], B12=config[\"elastic\"][\"B12\"], B44=config[\"elastic\"][\"B44\"])\n",
    "bto.add_homo_strain_dipole_interaction('homo_strain_dipole', field_1_ID=\"gstrain\", field_2_ID=\"dipole\", B1xx=config[\"elastic_dipole\"][\"B1xx\"], B1yy=config[\"elastic_dipole\"][\"B1yy\"], B4yz=config[\"elastic_dipole\"][\"B4yz\"])\n",
    "bto.add_inhomo_elastic_interaction('inhomo_elastic', field_ID=\"lstrain\", B11=config[\"elastic\"][\"B11\"], B12=config[\"elastic\"][\"B12\"], B44=config[\"elastic\"][\"B44\"])\n",
    "bto.add_inhomo_strain_dipole_interaction('inhomo_strain_dipole', field_1_ID=\"lstrain\", field_2_ID=\"dipole\", B1xx=config[\"elastic_dipole\"][\"B1xx\"], B1yy=config[\"elastic_dipole\"][\"B1yy\"], B4yz=config[\"elastic_dipole\"][\"B4yz\"])\n",
    "\n",
    "##########################################################################################\n",
    "## NPT simulation setup\n",
    "##########################################################################################\n",
    "dt = 0.002\n",
    "temperature = 300\n",
    "dipole_field.set_integrator('isothermal', dt=dt, temp=temperature, tau=0.1)\n",
    "lstrain_field.set_integrator('isothermal', dt=dt, temp=temperature, tau=1)\n",
    "gstrain.set_integrator('isothermal', dt=dt, temp=temperature, tau=1)\n",
    "simulation = of.SimulationNPTLangevin(bto, pressure=hydropres)\n",
    "simulation.init_velocity(mode='gaussian', temp=temperature)\n",
    "\n",
    "##########################################################################################\n",
    "## Run\n",
    "##########################################################################################\n",
    "t0_4gpu_init = timer()\n",
    "jax.block_until_ready(simulation.run(1, profile=False))\n",
    "t1_4gpu_init = timer()\n",
    "\n",
    "t0_4gpu_run = timer()\n",
    "jax.block_until_ready(simulation.run(500, profile=False))\n",
    "t1_4gpu_run = timer()\n",
    "\n",
    "##########################################################################################\n",
    "## Report\n",
    "##########################################################################################\n",
    "clear_output()   # Clean the \"constant folding warning\" from JAX. It is expected for large lattices.\n",
    "\n",
    "print(f\"initialization takes: {t1_4gpu_init-t0_4gpu_init} seconds\")\n",
    "print(f\"500 steps takes: {t1_4gpu_run-t0_4gpu_run} seconds\")"
   ]
  },
  {
   "cell_type": "code",
   "execution_count": 3,
   "id": "5145bf62-532f-49c4-90c4-302fe3e585bb",
   "metadata": {},
   "outputs": [
    {
     "data": {
      "image/png": "[encoded data removed]",
      "text/plain": [
       "<Figure size 400x300 with 1 Axes>"
      ]
     },
     "metadata": {},
     "output_type": "display_data"
    }
   ],
   "source": [
    "import numpy as np\n",
    "from matplotlib import pyplot as plt\n",
    "import matplotlib as mpl\n",
    "mpl.rcParams['axes.linewidth'] = 1.5\n",
    "mpl.rcParams['axes.labelsize'] = 12\n",
    "mpl.rcParams['xtick.labelsize'] = 12\n",
    "mpl.rcParams['ytick.labelsize'] = 12\n",
    "\n",
    "\n",
    "## Machine info: Four NVIDIA A100-SXM4-40GB      Driver Version: 560.35.05      CUDA Version: 12.6\n",
    "\n",
    "ngpu = np.array([1,2,4])\n",
    "t = np.array([51.456912994384766, 28.956359148025513, 20.941428661346436])\n",
    "t_cpu = 596.919350862503  # 100 steps, AMD EPYC 7763 64-Core Processor\n",
    "\n",
    "nsteps_per_hour = 3600/t*500\n",
    "nsteps_per_hour_cpu = 3600/t_cpu*100\n",
    "fig, ax = plt.subplots(figsize=(4,3))\n",
    "ax.plot(ngpu, nsteps_per_hour, marker='o', label='GPUs (NVIDIA A100)', markersize=7, color='tab:orange')\n",
    "ax.plot(ngpu, nsteps_per_hour[0] * ngpu, color='tab:orange', linestyle='dashed', linewidth=2, label='Linear scaling')\n",
    "ax.set_xticks(ngpu)\n",
    "ax.set_yscale('log')\n",
    "ax.set_xlabel('# GPUs')\n",
    "ax.set_ylabel('Steps / hour')\n",
    "## add grid\n",
    "ax.grid(True, axis='y')\n",
    "ax.axhline(nsteps_per_hour_cpu, color='tab:blue', linestyle='dashed', linewidth=2, label='CPUs (AMD EPYC 7763)')\n",
    "ax.legend(frameon=False, loc='lower left', fontsize=10, bbox_to_anchor=(0.25, 0.16))\n",
    "plt.tight_layout()\n",
    "plt.savefig('GPU_benchmark.png', dpi=300)\n",
    "\n",
    "\n"
   ]
  },
  {
   "cell_type": "code",
   "execution_count": null,
   "id": "6006f1d0",
   "metadata": {},
   "outputs": [],
   "source": []
  }
 ],
 "metadata": {
  "kernelspec": {
   "display_name": "NERSC Python",
   "language": "python",
   "name": "python3"
  },
  "language_info": {
   "codemirror_mode": {
    "name": "ipython",
    "version": 3
   },
   "file_extension": ".py",
   "mimetype": "text/x-python",
   "name": "python",
   "nbconvert_exporter": "python",
   "pygments_lexer": "ipython3",
   "version": "3.9.19"
  }
 },
 "nbformat": 4,
 "nbformat_minor": 5
}
