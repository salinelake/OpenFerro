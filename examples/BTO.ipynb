{
 "cells": [
  {
   "cell_type": "code",
   "execution_count": 1,
   "id": "c8dea6a1-27a8-42e1-9416-04235d759685",
   "metadata": {},
   "outputs": [],
   "source": [
    "import openferro as of\n",
    "from openferro.interaction import *\n",
    "from openferro.simulation import *\n",
    "from openferro.engine import *\n",
    "from openferro.ewald import get_dipole_dipole_ewald\n",
    "from matplotlib import pyplot as plt\n",
    "import json\n"
   ]
  },
  {
   "cell_type": "markdown",
   "id": "371319d5",
   "metadata": {},
   "source": [
    "# define the lattice, order parameters, and the Hamiltonian"
   ]
  },
  {
   "cell_type": "code",
   "execution_count": 12,
   "id": "14acc9aa",
   "metadata": {},
   "outputs": [
    {
     "data": {
      "text/plain": [
       "<openferro.interaction.mutual_interaction at 0x153215a85810>"
      ]
     },
     "execution_count": 12,
     "metadata": {},
     "output_type": "execute_result"
    }
   ],
   "source": [
    "L = 10\n",
    "config = json.load(open('../model_configs/BaTiO3.json'))\n",
    "latt_vecs = jnp.eye(3) * config['lattice']['a1']\n",
    "latt = of.BravaisLattice3D(L, L, L, latt_vecs[0], latt_vecs[1], latt_vecs[2])\n",
    "bto = of.System(latt, pbc=True)\n",
    "\n",
    "## define fields\n",
    "dipole_field = bto.add_field(name=\"dipole\", ftype=\"Rn\", dim=3, value=0.1, mass = 40)\n",
    "lstrain_field = bto.add_field(name=\"lstrain\", ftype=\"local_strain\", value=0.0, mass = 40)\n",
    "gstrain_field = bto.add_field(name=\"gstrain\", ftype=\"global_strain\", value=jnp.zeros(6), mass = 40 * L**3)\n",
    "\n",
    "## define Hamiltonian\n",
    "bto.add_self_interaction('self_onsite', field_name=\"dipole\", energy_engine=self_energy_onsite_isotropic, parameters=config[\"onsite\"], enable_jit=True)\n",
    "bto.add_self_interaction('short_range_1', field_name=\"dipole\", energy_engine=short_range_1stnn_isotropic, parameters=config[\"short_range\"], enable_jit=True)\n",
    "bto.add_self_interaction('short_range_2', field_name=\"dipole\", energy_engine=short_range_2ednn_isotropic, parameters=config[\"short_range\"], enable_jit=True)\n",
    "bto.add_self_interaction('short_range_3', field_name=\"dipole\", energy_engine=short_range_3rdnn_isotropic, parameters=config[\"short_range\"], enable_jit=True)\n",
    "bto.add_self_interaction('dipole_dipole', field_name=\"dipole\", energy_engine=get_dipole_dipole_ewald(latt), parameters=config[\"born\"], enable_jit=True)\n",
    "\n",
    "\n",
    "homo_config = config[\"elastic\"].copy()\n",
    "homo_config['N'] = L**3\n",
    "bto.add_self_interaction('homo_elastic', field_name=\"gstrain\", energy_engine=homo_elastic_energy, parameters=homo_config, enable_jit=True)\n",
    "bto.add_mutual_interaction('homo_strain_dipole', field_name1=\"gstrain\", field_name2=\"dipole\", energy_engine=homo_strain_dipole_interaction, parameters=config[\"elastic_dipole\"], enable_jit=True)\n",
    "\n",
    "# bto.add_mutual_interaction('elastic', field_name1=\"lstrain\", field_name2=\"gstrain\", energy_engine=elastic_energy, parameters=config[\"elastic\"], enable_jit=True)\n",
    "# bto.add_mutual_interaction('inhomo_strain_dipole', field_name1=\"lstrain\", field_name2=\"dipole\", energy_engine=inhomo_strain_dipole_interaction, parameters=config[\"elastic_dipole\"], enable_jit=True)\n",
    " "
   ]
  },
  {
   "cell_type": "markdown",
   "id": "8c7888e6",
   "metadata": {},
   "source": [
    "# structure relaxation"
   ]
  },
  {
   "cell_type": "code",
   "execution_count": 13,
   "id": "c1c4b300",
   "metadata": {},
   "outputs": [
    {
     "name": "stdout",
     "output_type": "stream",
     "text": [
      "max force after optimization 1.4871359e-05\n",
      "numerical   global strain: [[[[0.01488727 0.01461967 0.01461938 0.00162759 0.00164496 0.00164497]]]]\n",
      "theoretical global strain=(0.0148,**,**,0.0016,0.0016,0.0016)\n",
      "spontaneous polarization = [0.26885566 0.26602113 0.26601335] C/m^2\n",
      "|polarization|=0.462399959564209C/m^2\n"
     ]
    }
   ],
   "source": [
    "\n",
    "# check all energy terms before structural minimization\n",
    "# bto.update_force()\n",
    "# print('max force before optimization',jnp.abs(bto.get_field_by_name(\"dipole\").get_force()).max())\n",
    "# print('average field before optimization',bto.get_field_by_name(\"dipole\").get_values().mean())\n",
    "# for interaction in bto.interaction_dict:\n",
    "#     print('E({})={}eV'.format( interaction, bto.calc_energy_by_name(interaction)))\n",
    "#     # %timeit bto.calc_energy_by_name(interaction)\n",
    "#     # %timeit bto.calc_force_by_name(interaction)\n",
    "# print('total E:{}eV'.format(bto.calc_potential_energy()))\n",
    "\n",
    "## minimization\n",
    "hydropres =  -4.8e4\n",
    "minimizer = MDMinimize(bto, max_iter=10000, tol=1e-5, dt=0.01)\n",
    "minimizer.minimize(variable_cell=True, pressure=hydropres)\n",
    "\n",
    "## check strain and spontaneous poalrization after structural minimization \n",
    "equilibrium_field = bto.get_field_by_name(\"dipole\").get_values().copy()\n",
    "avg_field = equilibrium_field.mean((0,1,2))\n",
    "polarization = avg_field * config['born']['Z_star'] / latt.unit_volume * 16.0217646  # C/m^2\n",
    "strain4 = - config['elastic_dipole']['B4yz'] / config['elastic']['B44'] * avg_field[1] * avg_field[2]\n",
    "strain5 = - config['elastic_dipole']['B4yz'] / config['elastic']['B44'] * avg_field[0] * avg_field[2]\n",
    "strain6 = - config['elastic_dipole']['B4yz'] / config['elastic']['B44'] * avg_field[0] * avg_field[1]\n",
    "strain1 = - 0.5 * (config['elastic_dipole']['B1xx']+2*config['elastic_dipole']['B1yy']) * avg_field[0]**2\n",
    "strain1 -= hydropres * Constants.bar * latt.unit_volume\n",
    "strain1 /= (config['elastic']['B11']+2*config['elastic']['B12'])\n",
    "\n",
    "print('max force after optimization',jnp.abs(bto.get_field_by_name(\"dipole\").get_force()).max())\n",
    "print('numerical   global strain:', bto.get_field_by_name(\"gstrain\").get_values())\n",
    "print('theoretical global strain=({:.4f},**,**,{:.4f},{:.4f},{:.4f})'.format(strain1, strain4, strain5, strain6))\n",
    "# for interaction in bto.interaction_dict:\n",
    "#     print('E({})={}eV'.format( interaction, bto.calc_energy_by_name(interaction)))\n",
    "# print('total E:{}eV'.format(bto.calc_potential_energy()))\n",
    "# print('average field after optimization',avg_field)\n",
    "print('spontaneous polarization = {} C/m^2'.format(polarization))\n",
    "print('|polarization|={}C/m^2'.format((polarization**2).sum()**0.5))\n"
   ]
  },
  {
   "cell_type": "markdown",
   "id": "e3d19ca0",
   "metadata": {},
   "source": [
    "# NPT simulation"
   ]
  },
  {
   "cell_type": "code",
   "execution_count": null,
   "id": "1e35b711",
   "metadata": {},
   "outputs": [
    {
     "name": "stdout",
     "output_type": "stream",
     "text": [
      "T=140.0K\n",
      "=================T=140.0K, iter=0=======================\n",
      "temperature: 131.24251\n",
      "average field: [0.10340115 0.10253312 0.10155509]A\n",
      "global strain: [0.01462788 0.0151118  0.01509932 0.00178921 0.00145853 0.00115128] \n",
      "=================T=140.0K, iter=5=======================\n",
      "temperature: 144.07874\n",
      "average field: [0.10312787 0.10242439 0.10156323]A\n",
      "global strain: [0.01525554 0.01494322 0.01500947 0.00156117 0.00175583 0.00102558] \n",
      "=================T=140.0K, iter=10=======================\n",
      "temperature: 132.62785\n",
      "average field: [0.10279677 0.10217315 0.10142382]A\n",
      "global strain: [0.01534736 0.0149207  0.01479555 0.00149207 0.00209736 0.00099154] \n",
      "=================T=140.0K, iter=15=======================\n",
      "temperature: 131.62152\n",
      "average field: [0.10270122 0.10188171 0.10116589]A\n",
      "global strain: [0.01512571 0.01544709 0.01428106 0.00124691 0.00212288 0.00106835] \n",
      "=================T=140.0K, iter=20=======================\n",
      "temperature: 139.79709\n",
      "average field: [0.10245401 0.10161147 0.10086793]A\n",
      "global strain: [0.01490752 0.01503605 0.01481165 0.00130464 0.00189082 0.00162499] \n",
      "=================T=140.0K, iter=25=======================\n",
      "temperature: 138.76451\n",
      "average field: [0.10223156 0.10164251 0.10056913]A\n",
      "global strain: [0.01530471 0.01390222 0.01527327 0.00155698 0.00157139 0.00264822] \n",
      "=================T=140.0K, iter=30=======================\n",
      "temperature: 132.42693\n",
      "average field: [0.10224903 0.1015719  0.10051626]A\n",
      "global strain: [0.01485001 0.01384521 0.01457996 0.00184665 0.00145974 0.00241999] \n",
      "=================T=140.0K, iter=35=======================\n",
      "temperature: 144.93921\n",
      "average field: [0.1023138  0.10087423 0.10040875]A\n",
      "global strain: [0.01458702 0.0154901  0.01466497 0.00144595 0.00135197 0.00168985] \n",
      "=================T=140.0K, iter=40=======================\n",
      "temperature: 139.35516\n",
      "average field: [0.10198621 0.10064695 0.10000136]A\n",
      "global strain: [0.01424559 0.01543767 0.01437361 0.00152501 0.00186069 0.00076558] \n",
      "=================T=140.0K, iter=45=======================\n",
      "temperature: 135.10704\n",
      "average field: [0.10139187 0.10094057 0.10035516]A\n",
      "global strain: [0.01458793 0.01459284 0.01464924 0.00153834 0.00267037 0.0019102 ] \n",
      "=================T=140.0K, iter=50=======================\n",
      "temperature: 140.25514\n",
      "average field: [0.10118383 0.10109439 0.10024737]A\n",
      "global strain: [0.0153187  0.01439684 0.01464004 0.00137023 0.00240147 0.00219294] \n",
      "=================T=140.0K, iter=55=======================\n",
      "temperature: 142.4518\n",
      "average field: [0.1005882  0.10099959 0.10003356]A\n",
      "global strain: [0.01501304 0.01464447 0.01431392 0.00071061 0.0018361  0.00197853] \n",
      "=================T=140.0K, iter=60=======================\n",
      "temperature: 143.91899\n",
      "average field: [0.10020496 0.10063696 0.09984452]A\n",
      "global strain: [0.01452101 0.01482117 0.01447302 0.00158364 0.0013184  0.00129   ] \n"
     ]
    }
   ],
   "source": [
    "temp_list = np.linspace(140, 400, 14 )\n",
    "# average_field = np.zeros(len(temp_list))\n",
    "log_freq = 100\n",
    "total_time = 50\n",
    "dt = 0.002\n",
    "relax_steps = int(10/dt)\n",
    "total_steps = int(total_time / dt)\n",
    "niters = total_steps // log_freq\n",
    "field_history = []\n",
    "gs_history = []\n",
    "for it, temperature in enumerate(temp_list):\n",
    "    # simulation = SimulationNVTLangevin(bto, dt=dt, temperature=temperature, tau=0.1)\n",
    "    simulation = SimulationNPTLangevin(bto, dt=dt, temperature=temperature, pressure=-4.8e4, tau=0.1, tauP= 1)\n",
    "    simulation.init_velocity(mode='gaussian')\n",
    "    simulation.step(relax_steps)\n",
    "    print('T={}K'.format(temperature))\n",
    "    average_field = []\n",
    "    global_strain = []\n",
    "    for ii in range(niters):\n",
    "        simulation.step(log_freq)\n",
    "        average_field.append(bto.get_field_by_name('dipole').get_values().mean((0,1,2)))\n",
    "        global_strain.append(bto.get_field_by_name(\"gstrain\").get_values().flatten())\n",
    "        if ii % 5 == 0:\n",
    "            print('=================T={}K, iter={}======================='.format(temperature, ii))\n",
    "            # pot_E = bto.calc_potential_energy()\n",
    "            # kin_E = bto.calc_kinetic_energy()\n",
    "            # total_E = pot_E + kin_E\n",
    "            # excess_stress = bto.calc_excess_stress().flatten()\n",
    "            # print('pot energy:', pot_E)\n",
    "            # print('kine energy:', kin_E)\n",
    "            # print('total energy:', total_E)\n",
    "            print('temperature:', bto.calc_temp_by_name('dipole'))\n",
    "            print('average field: {}A'.format(average_field[-1]))\n",
    "            print('global strain: {} '.format(global_strain[-1]))\n",
    "    field_history.append(average_field)\n",
    "    gs_history.append(global_strain)\n",
    "field_history = jnp.array(field_history)\n",
    "gs_history = jnp.array(gs_history)\n",
    "\n",
    "\n",
    "jnp.save('field_history.npy', field_history)\n",
    "jnp.save('gs_history.npy', gs_history)\n"
   ]
  },
  {
   "cell_type": "code",
   "execution_count": 23,
   "id": "2d9b78b4-ac18-445d-af5e-bbba94f91ab5",
   "metadata": {},
   "outputs": [
    {
     "data": {
      "text/plain": [
       "(1, 50, 6)"
      ]
     },
     "execution_count": 23,
     "metadata": {},
     "output_type": "execute_result"
    }
   ],
   "source": [
    "gs_history.shape"
   ]
  },
  {
   "cell_type": "code",
   "execution_count": 23,
   "id": "debd299b",
   "metadata": {},
   "outputs": [
    {
     "data": {
      "text/plain": [
       "[<matplotlib.lines.Line2D at 0x22086aa2240>]"
      ]
     },
     "execution_count": 23,
     "metadata": {},
     "output_type": "execute_result"
    },
    {
     "data": {
      "image/png": "[encoded data removed]",
      "text/plain": [
       "<Figure size 640x480 with 1 Axes>"
      ]
     },
     "metadata": {},
     "output_type": "display_data"
    }
   ],
   "source": [
    "plt.plot(field_history[6], label='20K')\n",
    "# field_history.shape"
   ]
  },
  {
   "cell_type": "code",
   "execution_count": null,
   "id": "f3ccc7c2",
   "metadata": {},
   "outputs": [],
   "source": []
  }
 ],
 "metadata": {
  "kernelspec": {
   "display_name": "Python 3 (ipykernel)",
   "language": "python",
   "name": "python3"
  },
  "language_info": {
   "codemirror_mode": {
    "name": "ipython",
    "version": 3
   },
   "file_extension": ".py",
   "mimetype": "text/x-python",
   "name": "python",
   "nbconvert_exporter": "python",
   "pygments_lexer": "ipython3",
   "version": "3.10.13"
  }
 },
 "nbformat": 4,
 "nbformat_minor": 5
}
