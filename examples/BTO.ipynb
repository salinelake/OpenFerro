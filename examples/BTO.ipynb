{
 "cells": [
  {
   "cell_type": "code",
   "execution_count": 2,
   "id": "c8dea6a1-27a8-42e1-9416-04235d759685",
   "metadata": {},
   "outputs": [],
   "source": [
    "import openferro as of\n",
    "from openferro.interaction import *\n",
    "from openferro.simulation import *\n",
    "from openferro.engine import *\n",
    "from openferro.ewald import dipole_dipole_ewald\n",
    "from matplotlib import pyplot as plt\n"
   ]
  },
  {
   "cell_type": "code",
   "execution_count": 3,
   "id": "14acc9aa",
   "metadata": {},
   "outputs": [
    {
     "name": "stdout",
     "output_type": "stream",
     "text": [
      "mass: [1. 1. 1. 1. 1. 1. 1. 1. 1. 1. 1. 1. 1. 1. 1. 1. 1. 1. 1. 1. 1. 1. 1. 1.\n",
      " 1. 1. 1. 1. 1. 1. 1. 1. 1. 1. 1. 1. 1. 1. 1. 1. 1. 1. 1. 1. 1. 1. 1. 1.\n",
      " 1. 1. 1. 1. 1. 1. 1. 1. 1. 1. 1. 1. 1. 1. 1. 1. 1. 1. 1. 1. 1. 1. 1. 1.\n",
      " 1. 1. 1. 1. 1. 1. 1. 1. 1. 1. 1. 1. 1. 1. 1. 1. 1. 1. 1. 1. 1. 1. 1. 1.\n",
      " 1. 1. 1. 1. 1. 1. 1. 1. 1. 1. 1. 1. 1. 1. 1. 1. 1. 1. 1. 1. 1. 1. 1. 1.\n",
      " 1. 1. 1. 1. 1. 1. 1. 1. 1. 1. 1. 1. 1. 1. 1. 1. 1. 1. 1. 1. 1. 1. 1. 1.\n",
      " 1. 1. 1. 1. 1. 1. 1. 1. 1. 1. 1. 1. 1. 1. 1. 1. 1. 1. 1. 1. 1. 1. 1. 1.\n",
      " 1. 1. 1. 1. 1. 1. 1. 1. 1. 1. 1. 1. 1. 1. 1. 1. 1. 1. 1. 1. 1. 1. 1. 1.\n",
      " 1. 1. 1. 1. 1. 1. 1. 1. 1. 1. 1. 1. 1. 1. 1. 1. 1. 1. 1. 1. 1. 1. 1. 1.\n",
      " 1. 1. 1. 1. 1. 1. 1. 1. 1. 1. 1. 1. 1. 1. 1. 1. 1. 1. 1. 1. 1. 1. 1. 1.\n",
      " 1. 1. 1. 1. 1. 1. 1. 1. 1. 1. 1. 1. 1. 1. 1. 1. 1. 1. 1. 1. 1. 1. 1. 1.\n",
      " 1. 1. 1. 1. 1. 1. 1. 1. 1. 1. 1. 1. 1. 1. 1. 1. 1. 1. 1. 1. 1. 1. 1. 1.\n",
      " 1. 1. 1. 1. 1. 1. 1. 1. 1. 1. 1. 1. 1. 1. 1. 1. 1. 1. 1. 1. 1. 1. 1. 1.\n",
      " 1. 1. 1. 1. 1. 1. 1. 1. 1. 1. 1. 1. 1. 1. 1. 1. 1. 1. 1. 1. 1. 1. 1. 1.\n",
      " 1. 1. 1. 1. 1. 1. 1. 1. 1. 1. 1. 1. 1. 1. 1. 1. 1. 1. 1. 1. 1. 1. 1. 1.\n",
      " 1. 1. 1. 1. 1. 1. 1. 1. 1. 1. 1. 1. 1. 1. 1. 1. 1. 1. 1. 1. 1. 1. 1. 1.\n",
      " 1. 1. 1. 1. 1. 1. 1. 1. 1. 1. 1. 1. 1. 1. 1. 1. 1. 1. 1. 1. 1. 1. 1. 1.\n",
      " 1. 1. 1. 1. 1. 1. 1. 1. 1. 1. 1. 1. 1. 1. 1. 1. 1. 1. 1. 1. 1. 1. 1. 1.\n",
      " 1. 1. 1. 1. 1. 1. 1. 1. 1. 1. 1. 1. 1. 1. 1. 1. 1. 1. 1. 1. 1. 1. 1. 1.\n",
      " 1. 1. 1. 1. 1. 1. 1. 1. 1. 1. 1. 1. 1. 1. 1. 1. 1. 1. 1. 1. 1. 1. 1. 1.\n",
      " 1. 1. 1. 1. 1. 1. 1. 1. 1. 1. 1. 1. 1. 1. 1. 1. 1. 1. 1. 1. 1. 1. 1. 1.\n",
      " 1. 1. 1. 1. 1. 1. 1. 1.]\n",
      "max force before optimization 0.48375002\n",
      "average field before optimization 0.75\n",
      "max force after optimization 7.3611736e-06\n",
      "average field after optimization 1.04882\n"
     ]
    }
   ],
   "source": [
    "latt = of.BravaisLattice3D(8, 8, 8)\n",
    "pto = of.System(latt, pbc=True)\n",
    "dipole_field = pto.add_field(name=\"dipole\", ftype=\"scalar\", value=0.75)\n",
    "\n",
    "double_well = self_energy_R1_onsite\n",
    "pto.add_self_interaction('double_well', field_name=\"dipole\", energy_engine=double_well, parameters={'k2': -0.6, 'alpha': 0.3, 'offset': 0}, enable_jit=True)\n",
    "\n",
    "ising_couple = self_energy_R1_neighbor_pbc\n",
    "pto.add_self_interaction('ising_couple', field_name=\"dipole\", energy_engine=ising_couple, parameters={'J1': -0.02, 'J2': -0.02, 'J3': -0.02, 'offset': 0}, enable_jit=True)\n",
    "\n",
    "print('mass:', pto.get_field_by_name('dipole').get_mass().flatten())\n",
    "pto.update_force()\n",
    "print('max force before optimization',pto.get_field_by_name(\"dipole\").get_force().max())\n",
    "print('average field before optimization',pto.get_field_by_name(\"dipole\").get_values().mean())\n",
    "minimizer = MDMinimize(pto, max_iter=100, tol=1e-5, dt=0.1)\n",
    "minimizer.minimize()\n",
    "equilibrium_field = pto.get_field_by_name(\"dipole\").get_values().copy()\n",
    "print('max force after optimization',pto.get_field_by_name(\"dipole\").get_force().max())\n",
    "print('average field after optimization',pto.get_field_by_name(\"dipole\").get_values().mean())\n",
    "\n",
    "\n"
   ]
  },
  {
   "cell_type": "code",
   "execution_count": 7,
   "id": "1e35b711",
   "metadata": {},
   "outputs": [
    {
     "name": "stdout",
     "output_type": "stream",
     "text": [
      "T=300K\n",
      "T=400K\n",
      "T=500K\n",
      "T=600K\n",
      "T=700K\n",
      "T=800K\n",
      "T=900K\n"
     ]
    }
   ],
   "source": [
    "temp_list = [ 300,400,500,600,700,800,900]\n",
    "# average_field = np.zeros(len(temp_list))\n",
    "log_freq = 100\n",
    "total_time = 100000\n",
    "dt = 0.1\n",
    "relax_steps = int(1000/dt)\n",
    "total_steps = int(total_time / dt)\n",
    "niters = total_steps // log_freq\n",
    "field_history = []\n",
    "for it, temperature in enumerate(temp_list):\n",
    "    simulation = SimulationNVTLangevin(pto, dt=dt, temperature=temperature, gamma=1/(100*dt))\n",
    "    simulation.system.get_field_by_name('dipole').set_values(equilibrium_field.copy())\n",
    "    simulation.init_velocity(mode='gaussian')\n",
    "    simulation.step(relax_steps)\n",
    "    print('T={}K'.format(temperature))\n",
    "    average_field = []\n",
    "    for ii in range(niters):\n",
    "        simulation.step(log_freq)\n",
    "        # print('velocity:', pto.get_field_by_name('dipole').get_velocity().flatten())\n",
    "        # print('field:', pto.get_field_by_name('dipole').get_values().flatten())\n",
    "        pot_E = pto.calc_potential_energy()\n",
    "        kin_E = pto.calc_kinetic_energy()\n",
    "        total_E = pot_E + kin_E\n",
    "        # average_field[it] += pto.get_field_by_name('dipole').get_values().mean() / niters\n",
    "        average_field.append(pto.get_field_by_name('dipole').get_values().mean())\n",
    "        # print('=================T={}K, iter={}======================='.format(temperature, ii))\n",
    "        # print('pot energy:', pot_E)\n",
    "        # print('kine energy:', kin_E)\n",
    "        # print('total energy:', total_E)\n",
    "        # print('temperature:', pto.calc_temp_by_name('dipole'))\n",
    "        # print('average field:', average_field)\n",
    "        # print('field:', pto.get_field_by_name('dipole').get_values().flatten())\n",
    "    field_history.append(average_field)\n",
    "field_history = jnp.array(field_history)\n"
   ]
  }
 ],
 "metadata": {
  "kernelspec": {
   "display_name": "Python 3 (ipykernel)",
   "language": "python",
   "name": "python3"
  },
  "language_info": {
   "codemirror_mode": {
    "name": "ipython",
    "version": 3
   },
   "file_extension": ".py",
   "mimetype": "text/x-python",
   "name": "python",
   "nbconvert_exporter": "python",
   "pygments_lexer": "ipython3",
   "version": "0.0.0"
  }
 },
 "nbformat": 4,
 "nbformat_minor": 5
}
